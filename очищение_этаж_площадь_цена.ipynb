{
 "cells": [
  {
   "cell_type": "code",
   "execution_count": 2,
   "metadata": {},
   "outputs": [],
   "source": [
    "\n",
    "import pandas as pd\n",
    "import numpy as np\n",
    "import matplotlib as mlt\n",
    "import matplotlib.pyplot as plt\n",
    "import seaborn as sns"
   ]
  },
  {
   "cell_type": "code",
   "execution_count": 3,
   "metadata": {},
   "outputs": [
    {
     "name": "stderr",
     "output_type": "stream",
     "text": [
      "/Users/idaklimanova/ds_bootcamp/new/.EDA/lib/python3.10/site-packages/tqdm/auto.py:21: TqdmWarning: IProgress not found. Please update jupyter and ipywidgets. See https://ipywidgets.readthedocs.io/en/stable/user_install.html\n",
      "  from .autonotebook import tqdm as notebook_tqdm\n",
      "/var/folders/1j/0lvqpz4n6ts8d6j87tv4rlw00000gn/T/ipykernel_90186/2274191625.py:1: DeprecationWarning: `import pandas_profiling` is going to be deprecated by April 1st. Please use `import ydata_profiling` instead.\n",
      "  from pandas_profiling import ProfileReport\n"
     ]
    }
   ],
   "source": [
    "from pandas_profiling import ProfileReport"
   ]
  },
  {
   "cell_type": "code",
   "execution_count": 4,
   "metadata": {},
   "outputs": [],
   "source": [
    "retail = pd.read_csv('_data.csv', dtype={'Метро': 'string','Дом':'string','Площадь, м2':'string','Количество комнат':'string','Ремонт':'string'})"
   ]
  },
  {
   "cell_type": "code",
   "execution_count": 5,
   "metadata": {},
   "outputs": [
    {
     "name": "stdout",
     "output_type": "stream",
     "text": [
      "<class 'pandas.core.frame.DataFrame'>\n",
      "RangeIndex: 23368 entries, 0 to 23367\n",
      "Data columns (total 25 columns):\n",
      " #   Column                    Non-Null Count  Dtype  \n",
      "---  ------                    --------------  -----  \n",
      " 0   Unnamed: 0                23368 non-null  int64  \n",
      " 1   ID  объявления            23368 non-null  int64  \n",
      " 2   Количество комнат         22327 non-null  string \n",
      " 3   Тип                       23368 non-null  object \n",
      " 4   Метро                     22053 non-null  string \n",
      " 5   Адрес                     23368 non-null  object \n",
      " 6   Площадь, м2               23368 non-null  string \n",
      " 7   Дом                       23368 non-null  string \n",
      " 8   Парковка                  9951 non-null   object \n",
      " 9   Цена                      23368 non-null  object \n",
      " 10  Телефоны                  23368 non-null  object \n",
      " 11  Описание                  23368 non-null  object \n",
      " 12  Ремонт                    20613 non-null  string \n",
      " 13  Площадь комнат, м2        14458 non-null  object \n",
      " 14  Балкон                    15390 non-null  object \n",
      " 15  Окна                      16755 non-null  object \n",
      " 16  Санузел                   20696 non-null  object \n",
      " 17  Можно с детьми/животными  17272 non-null  object \n",
      " 18  Дополнительно             23011 non-null  object \n",
      " 19  Название ЖК               5848 non-null   object \n",
      " 20  Серия дома                2163 non-null   object \n",
      " 21  Высота потолков, м        11206 non-null  float64\n",
      " 22  Лифт                      17868 non-null  object \n",
      " 23  Мусоропровод              12846 non-null  object \n",
      " 24  Ссылка на объявление      23368 non-null  object \n",
      "dtypes: float64(1), int64(2), object(17), string(5)\n",
      "memory usage: 4.5+ MB\n"
     ]
    }
   ],
   "source": [
    "retail.info()"
   ]
  },
  {
   "cell_type": "code",
   "execution_count": 292,
   "metadata": {},
   "outputs": [
    {
     "name": "stderr",
     "output_type": "stream",
     "text": [
      "Summarize dataset: 100%|██████████| 44/44 [00:11<00:00,  3.84it/s, Completed]                                     \n",
      "Generate report structure: 100%|██████████| 1/1 [00:09<00:00,  9.01s/it]\n",
      "Render HTML: 100%|██████████| 1/1 [00:02<00:00,  2.43s/it]\n",
      "Export report to file: 100%|██████████| 1/1 [00:00<00:00, 321.25it/s]\n"
     ]
    }
   ],
   "source": [
    "profile = ProfileReport(retail)\n",
    "profile.to_file('report.html')\n"
   ]
  },
  {
   "attachments": {},
   "cell_type": "markdown",
   "metadata": {},
   "source": [
    "работа с метро"
   ]
  },
  {
   "cell_type": "code",
   "execution_count": 6,
   "metadata": {},
   "outputs": [],
   "source": [
    "#retail['Метро2'] = retail['Метро'].apply(lambda x: x.split())\n",
    "new_metro = retail['Метро'].str.split(' ',expand=True)"
   ]
  },
  {
   "cell_type": "code",
   "execution_count": 7,
   "metadata": {},
   "outputs": [
    {
     "data": {
      "text/plain": [
       "<StringArray>\n",
       "[       'Смоленская',         'Арбатская',     'Кропоткинская',\n",
       "   'Александровский',          'Киевская',        'Библиотека',\n",
       "        'Боровицкая',       'Баррикадная', 'Краснопресненская',\n",
       "                <NA>,\n",
       " ...\n",
       "         'Лиговский',     'Ломоносовская',      'Елизаровская',\n",
       "            'Парнас',        'Приморская',       'Театральная',\n",
       "           'Павшино',      'Бухарестская',         'Дунайская',\n",
       "        'Волковская']\n",
       "Length: 309, dtype: string"
      ]
     },
     "execution_count": 7,
     "metadata": {},
     "output_type": "execute_result"
    }
   ],
   "source": [
    "new_metro[1].unique()"
   ]
  },
  {
   "cell_type": "code",
   "execution_count": 8,
   "metadata": {},
   "outputs": [],
   "source": [
    "#retail.insert(loc =0,'станция',value = new_metro.iloc('2'))"
   ]
  },
  {
   "cell_type": "code",
   "execution_count": 9,
   "metadata": {},
   "outputs": [],
   "source": [
    "\n",
    "new_room = retail['Количество комнат'].str.split(' ',expand=True)"
   ]
  },
  {
   "cell_type": "code",
   "execution_count": 10,
   "metadata": {},
   "outputs": [],
   "source": [
    "new_house = retail['Дом'].str.split(' ',expand=True)"
   ]
  },
  {
   "cell_type": "code",
   "execution_count": 11,
   "metadata": {},
   "outputs": [],
   "source": [
    "new_house= new_house[0].str.split('/')"
   ]
  },
  {
   "cell_type": "code",
   "execution_count": 12,
   "metadata": {},
   "outputs": [
    {
     "data": {
      "text/plain": [
       "0         [5, 16,]\n",
       "1         [5, 16,]\n",
       "2          [5, 16]\n",
       "3           [5, 6]\n",
       "4        [12, 26,]\n",
       "           ...    \n",
       "23363     [10, 14]\n",
       "23364     [5, 18,]\n",
       "23365      [5, 5,]\n",
       "23366     [8, 23,]\n",
       "23367     [6, 23,]\n",
       "Name: 0, Length: 23368, dtype: object"
      ]
     },
     "execution_count": 12,
     "metadata": {},
     "output_type": "execute_result"
    }
   ],
   "source": [
    "new_house\n"
   ]
  },
  {
   "cell_type": "code",
   "execution_count": 13,
   "metadata": {},
   "outputs": [],
   "source": [
    "floor = retail['Дом'].apply(lambda x: x.split('/')[0]).astype(int)    #берем  этаж чистый"
   ]
  },
  {
   "cell_type": "code",
   "execution_count": 14,
   "metadata": {},
   "outputs": [],
   "source": [
    "sq = retail['Площадь, м2'].apply(lambda x: x.split('/')[0]).astype(float)      # берем площадь жилая чистая"
   ]
  },
  {
   "cell_type": "code",
   "execution_count": 15,
   "metadata": {},
   "outputs": [
    {
     "data": {
      "text/plain": [
       "0        200.0\n",
       "1        198.0\n",
       "2        200.0\n",
       "3        170.0\n",
       "4         58.0\n",
       "         ...  \n",
       "23363     35.0\n",
       "23364     38.7\n",
       "23365     43.1\n",
       "23366     52.5\n",
       "23367     90.0\n",
       "Name: Площадь, м2, Length: 23368, dtype: float64"
      ]
     },
     "execution_count": 15,
     "metadata": {},
     "output_type": "execute_result"
    }
   ],
   "source": [
    "sq"
   ]
  },
  {
   "cell_type": "code",
   "execution_count": 16,
   "metadata": {},
   "outputs": [
    {
     "data": {
      "text/plain": [
       "array([False])"
      ]
     },
     "execution_count": 16,
     "metadata": {},
     "output_type": "execute_result"
    }
   ],
   "source": [
    "sq.isna().unique()"
   ]
  },
  {
   "cell_type": "code",
   "execution_count": 18,
   "metadata": {},
   "outputs": [
    {
     "data": {
      "text/plain": [
       "0        500000.0\n",
       "1        500000.0\n",
       "2        500000.0\n",
       "3        400000.0\n",
       "4        225000.0\n",
       "           ...   \n",
       "23363     42000.0\n",
       "23364     45000.0\n",
       "23365     50000.0\n",
       "23366     55000.0\n",
       "23367     57000.0\n",
       "Name: 0, Length: 23368, dtype: float64"
      ]
     },
     "execution_count": 18,
     "metadata": {},
     "output_type": "execute_result"
    }
   ],
   "source": [
    "new_price = retail['Цена'].str.split(' ', expand=True)      # берем - цена аренды чистая\n",
    "new_price[0] = new_price[0].astype(\"float\")\n",
    "new_price[0]"
   ]
  },
  {
   "cell_type": "code",
   "execution_count": 19,
   "metadata": {},
   "outputs": [
    {
     "data": {
      "text/plain": [
       "0        2500.00\n",
       "1        2525.25\n",
       "2        2500.00\n",
       "3        2352.94\n",
       "4        3879.31\n",
       "          ...   \n",
       "23363    1200.00\n",
       "23364    1162.79\n",
       "23365    1160.09\n",
       "23366    1047.62\n",
       "23367     633.33\n",
       "Length: 23368, dtype: float64"
      ]
     },
     "execution_count": 19,
     "metadata": {},
     "output_type": "execute_result"
    }
   ],
   "source": [
    "p4m = new_price[0] / retail['Площадь, м2'].apply(lambda x: x.split('/')[0]).astype('float')   # берем - цена за метр квадратынй\n",
    "p4m.round(2)"
   ]
  }
 ],
 "metadata": {
  "kernelspec": {
   "display_name": ".EDA",
   "language": "python",
   "name": "python3"
  },
  "language_info": {
   "codemirror_mode": {
    "name": "ipython",
    "version": 3
   },
   "file_extension": ".py",
   "mimetype": "text/x-python",
   "name": "python",
   "nbconvert_exporter": "python",
   "pygments_lexer": "ipython3",
   "version": "3.10.10"
  },
  "orig_nbformat": 4
 },
 "nbformat": 4,
 "nbformat_minor": 2
}
